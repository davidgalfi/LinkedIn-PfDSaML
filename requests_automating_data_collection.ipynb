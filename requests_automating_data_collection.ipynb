{
 "cells": [
  {
   "cell_type": "code",
   "execution_count": 2,
   "metadata": {},
   "outputs": [],
   "source": [
    "import requests"
   ]
  },
  {
   "cell_type": "code",
   "execution_count": 3,
   "metadata": {},
   "outputs": [
    {
     "data": {
      "text/plain": [
       "<Response [200]>"
      ]
     },
     "execution_count": 3,
     "metadata": {},
     "output_type": "execute_result"
    }
   ],
   "source": [
    "# get request\n",
    "response = requests.get('https://www.google.com')\n",
    "response"
   ]
  },
  {
   "cell_type": "code",
   "execution_count": 4,
   "metadata": {},
   "outputs": [
    {
     "data": {
      "text/plain": [
       "'text/html; charset=ISO-8859-1'"
      ]
     },
     "execution_count": 4,
     "metadata": {},
     "output_type": "execute_result"
    }
   ],
   "source": [
    "response.headers['Content-Type']"
   ]
  },
  {
   "cell_type": "code",
   "execution_count": 5,
   "metadata": {},
   "outputs": [
    {
     "data": {
      "text/plain": [
       "b'<!doctype html><html itemscope=\"\" itemtype=\"http://schema.org/WebPage\" lang=\"da\"><head><meta content=\"text/html; charset=UTF-8\" http-equiv=\"Content-Type\"><meta content=\"/images/branding/googleg/1x/googleg_standard_color_128dp.png\" itemprop=\"image\"><title>Google</title><script nonce=\"4xFJCPRE8HHCSOsTHMN14Q\">(function(){var _g={kEI:\\'s7rYZrC1K7yC9u8P3qWh0Ao\\',kEXPI:\\'0,3700279,670,432,51,538613,2872,2891,73050,16105,203622,6699,41949,54822,13873,15676,8155,23351,22435,9779,62658,76208,15816,1804,35269,11813,1635,9708,19568,15664,5214616,9479,996,147,141,5991146,936,2840082,7441178,16496230,4043709,16673,43886,3,318,4,1281,3,2124363,23029351,11559,1240,46383,76720,15165,3823,4,4354,154,10339,315,3579,3490,10969,42251,6756,156,2483,13505,7736,9139,4598,328,3217,5,1238,1766,1117,5637,832,5,12082,410,518,5719,1670,5634,686,2749,3,759,3163,618,504,3,2834,181,2694,4480,1892,4191,103,5681,682,659,6185,7522,361,1852,2,9,8567,4844,2376,567,917,318,662,308,221,4713,1846,1,6,197,2083,3593,1370,455,6915,4625,2388,156,3239,2435,4,461,2,543,2,1531,563,575,136,60,555,11,2416,1059,4,730,7152,4698,1472,926,2,850,3,2689,656,64,272,559,782,562,1470,368,2865,467,300,612,121,266,15,517,14,90,502,1,133,46,693,10,3,2,129,4,888,105,1267,27,116,1447,79,124,21,993,137,484,218,544,349,128,3,24,169,484,1971,4,3,1393,58,41,1149,6,1379,6,490,83,173,2,135,1738,379,67,379,2,44,606,207,88,154,1175,254,3365,1358,381,3,216,1403,124,521,282,723,551,1,8,1,1,4,1,4,63,177,98,51,504,214,30,27,323,132,241,514,153,3,1105,314,26,153,27,1789,21478616,3,10196,4,4275,3,7053,1112,47,9632\\',kBL:\\'ToXV\\',kOPI:89978449};(function(){var a;((a=window.google)==null?0:a.stvsc)?google.kEI=_g.kEI:window.google=_g;}).call(this);})();(function(){google.sn=\\'webhp\\';google.kHL=\\'da\\';})();(function(){\\nvar h=this||self;function l(){return window.google!==void 0&&window.google.kOPI!==void 0&&window.google.kOPI!==0?window.google.kOPI:null};var m,n=[];function p(a){for(var b;a&&(!a.getAttribute||!(b=a.getAttribute(\"eid\")));)a=a.parentNode;return b||m}function q(a){for(var b=null;a&&(!a.getAttribute||!(b=a.getAttribute(\"leid\")));)a=a.parentNode;return b}function r(a){/^http:/i.test(a)&&window.location.protocol===\"https:\"&&(google.ml&&google.ml(Error(\"a\"),!1,{src:a,glmm:1}),a=\"\");return a}\\nfunction t(a,b,c,d,k){var e=\"\";b.search(\"&ei=\")===-1&&(e=\"&ei=\"+p(d),b.search(\"&lei=\")===-1&&(d=q(d))&&(e+=\"&lei=\"+d));d=\"\";var g=b.search(\"&cshid=\")===-1&&a!==\"slh\",f=[];f.push([\"zx\",Date.now().toString()]);h._cshid&&g&&f.push([\"cshid\",h._cshid]);c=c();c!=null&&f.push([\"opi\",c.toString()]);for(c=0;c<f.length;c++){if(c===0||c>0)d+=\"&\";d+=f[c][0]+\"=\"+f[c][1]}return\"/\"+(k||\"gen_204\")+\"?atyp=i&ct=\"+String(a)+\"&cad=\"+(b+e+d)};m=google.kEI;google.getEI=p;google.getLEI=q;google.ml=function(){return null};google.log=function(a,b,c,d,k,e){e=e===void 0?l:e;c||(c=t(a,b,e,d,k));if(c=r(c)){a=new Image;var g=n.length;n[g]=a;a.onerror=a.onload=a.onabort=function(){delete n[g]};a.src=c}};google.logUrl=function(a,b){b=b===void 0?l:b;return t(\"\",a,b)};}).call(this);(function(){google.y={};google.sy=[];var d;(d=google).x||(d.x=function(a,b){if(a)var c=a.id;else{do c=Math.random();while(google.y[c])}google.y[c]=[a,b];return!1});var e;(e=google).sx||(e.sx=function(a){google.sy.push(a)});google.lm=[];var f;(f=google).plm||(f.plm=function(a){google.lm.push.apply(google.lm,a)});google.lq=[];var g;(g=google).load||(g.load=function(a,b,c){google.lq.push([[a],b,c])});var h;(h=google).loadAll||(h.loadAll=function(a,b){google.lq.push([a,b])});google.bx=!1;var k;(k=google).lx||(k.lx=function(){});var l=[],m;(m=google).fce||(m.fce=function(a,b,c,n){l.push([a,b,c,n])});google.qce=l;}).call(this);google.f={};(function(){\\ndocument.documentElement.addEventListener(\"submit\",function(b){var a;if(a=b.target){var c=a.getAttribute(\"data-submitfalse\");a=c===\"1\"||c===\"q\"&&!a.elements.q.value?!0:!1}else a=!1;a&&(b.preventDefault(),b.stopPropagation())},!0);document.documentElement.addEventListener(\"click\",function(b){var a;a:{for(a=b.target;a&&a!==document.documentElement;a=a.parentElement)if(a.tagName===\"A\"){a=a.getAttribute(\"data-nohref\")===\"1\";break a}a=!1}a&&b.preventDefault()},!0);}).call(this);</script><style>#gbar,#guser{font-size:13px;padding-top:1px !important;}#gbar{height:22px}#guser{padding-bottom:7px !important;text-align:right}.gbh,.gbd{border-top:1px solid #c9d7f1;font-size:1px}.gbh{height:0;position:absolute;top:24px;width:100%}@media all{.gb1{height:22px;margin-right:.5em;vertical-align:top}#gbar{float:left}}a.gb1,a.gb4{text-decoration:underline !important}a.gb1,a.gb4{color:#00c !important}.gbi .gb4{color:#dd8e27 !important}.gbf .gb4{color:#900 !important}\\n</style><style>body,td,a,p,.h{font-family:arial,sans-serif}body{margin:0;overflow-y:scroll}#gog{padding:3px 8px 0}td{line-height:.8em}.gac_m td{line-height:17px}form{margin-bottom:20px}.h{color:#1967d2}em{font-weight:bold;font-style:normal}.lst{height:25px;width:496px}.gsfi,.lst{font:18px arial,sans-serif}.gsfs{font:17px arial,sans-serif}.ds{display:inline-box;display:inline-block;margin:3px 0 4px;margin-left:4px}input{font-family:inherit}body{background:#fff;color:#000}a{color:#681da8;text-decoration:none}a:hover,a:active{text-decoration:underline}.fl a{color:#1967d2}a:visited{color:#681da8}.sblc{padding-top:5px}.sblc a{display:block;margin:2px 0;margin-left:13px;font-size:11px}.lsbb{background:#f8f9fa;border:solid 1px;border-color:#dadce0 #70757a #70757a #dadce0;height:30px}.lsbb{display:block}#WqQANb a{display:inline-block;margin:0 12px}.lsb{background:url(/images/nav_logo229.png) 0 -261px repeat-x;color:#000;border:none;cursor:pointer;height:30px;margin:0;outline:0;font:15px arial,sans-serif;vertical-align:top}.lsb:active{background:#dadce0}.lst:focus{outline:none}.Ucigb{width:458px}</style><script nonce=\"4xFJCPRE8HHCSOsTHMN14Q\">(function(){window.google.erd={jsr:1,bv:2071,de:true};\\nvar g=this||self;var k,l=(k=g.mei)!=null?k:1,n,p=(n=g.sdo)!=null?n:!0,q=0,r,t=google.erd,v=t.jsr;google.ml=function(a,b,d,m,e){e=e===void 0?2:e;b&&(r=a&&a.message);d===void 0&&(d={});d.cad=\"ple_\"+google.ple+\".aple_\"+google.aple;if(google.dl)return google.dl(a,e,d,!0),null;b=d;if(v<0){window.console&&console.error(a,b);if(v===-2)throw a;b=!1}else b=!a||!a.message||a.message===\"Error loading script\"||q>=l&&!m?!1:!0;if(!b)return null;q++;d=d||{};b=encodeURIComponent;var c=\"/gen_204?atyp=i&ei=\"+b(google.kEI);google.kEXPI&&(c+=\"&jexpid=\"+b(google.kEXPI));c+=\"&srcpg=\"+b(google.sn)+\"&jsr=\"+b(t.jsr)+\\n\"&bver=\"+b(t.bv);t.dpf&&(c+=\"&dpf=\"+b(t.dpf));var f=a.lineNumber;f!==void 0&&(c+=\"&line=\"+f);var h=a.fileName;h&&(h.indexOf(\"-extension:/\")>0&&(e=3),c+=\"&script=\"+b(h),f&&h===window.location.href&&(f=document.documentElement.outerHTML.split(\"\\\\n\")[f],c+=\"&cad=\"+b(f?f.substring(0,300):\"No script found.\")));google.ple&&google.ple===1&&(e=2);c+=\"&jsel=\"+e;for(var u in d)c+=\"&\",c+=b(u),c+=\"=\",c+=b(d[u]);c=c+\"&emsg=\"+b(a.name+\": \"+a.message);c=c+\"&jsst=\"+b(a.stack||\"N/A\");c.length>=12288&&(c=c.substr(0,12288));a=c;m||google.log(0,\"\",a);return a};window.onerror=function(a,b,d,m,e){r!==a&&(a=e instanceof Error?e:Error(a),d===void 0||\"lineNumber\"in a||(a.lineNumber=d),b===void 0||\"fileName\"in a||(a.fileName=b),google.ml(a,!1,void 0,!1,a.name===\"SyntaxError\"||a.message.substring(0,11)===\"SyntaxError\"||a.message.indexOf(\"Script error\")!==-1?3:0));r=null;p&&q>=l&&(window.onerror=null)};})();</script></head><body bgcolor=\"#fff\"><script nonce=\"4xFJCPRE8HHCSOsTHMN14Q\">(function(){var src=\\'/images/nav_logo229.png\\';var iesg=false;document.body.onload = function(){window.n && window.n();if (document.images){new Image().src=src;}\\nif (!iesg){document.f&&document.f.q.focus();document.gbqf&&document.gbqf.q.focus();}\\n}\\n})();</script><div id=\"mngb\"><div id=gbar><nobr><b class=gb1>S\\xf8gning</b> <a class=gb1 href=\"https://www.google.com/imghp?hl=da&tab=wi\">Billeder</a> <a class=gb1 href=\"https://maps.google.dk/maps?hl=da&tab=wl\">Maps</a> <a class=gb1 href=\"https://play.google.com/?hl=da&tab=w8\">Play</a> <a class=gb1 href=\"https://www.youtube.com/?tab=w1\">YouTube</a> <a class=gb1 href=\"https://news.google.com/?tab=wn\">Nyheder</a> <a class=gb1 href=\"https://mail.google.com/mail/?tab=wm\">Gmail</a> <a class=gb1 href=\"https://drive.google.com/?tab=wo\">Drev</a> <a class=gb1 style=\"text-decoration:none\" href=\"https://www.google.dk/intl/da/about/products?tab=wh\"><u>Mere</u> &raquo;</a></nobr></div><div id=guser width=100%><nobr><span id=gbn class=gbi></span><span id=gbf class=gbf></span><span id=gbe></span><a href=\"http://www.google.dk/history/optout?hl=da\" class=gb4>Webhistorik</a> | <a  href=\"/preferences?hl=da\" class=gb4>Indstillinger</a> | <a target=_top id=gb_70 href=\"https://accounts.google.com/ServiceLogin?hl=da&passive=true&continue=https://www.google.com/&ec=GAZAAQ\" class=gb4>Log ind</a></nobr></div><div class=gbh style=left:0></div><div class=gbh style=right:0></div></div><center><br clear=\"all\" id=\"lgpd\"><div id=\"XjhHGf\"><img alt=\"Google\" height=\"92\" src=\"/images/branding/googlelogo/1x/googlelogo_white_background_color_272x92dp.png\" style=\"padding:28px 0 14px\" width=\"272\" id=\"hplogo\"><br><br></div><form action=\"/search\" name=\"f\"><table cellpadding=\"0\" cellspacing=\"0\"><tr valign=\"top\"><td width=\"25%\">&nbsp;</td><td align=\"center\" nowrap=\"\"><input name=\"ie\" value=\"ISO-8859-1\" type=\"hidden\"><input value=\"da\" name=\"hl\" type=\"hidden\"><input name=\"source\" type=\"hidden\" value=\"hp\"><input name=\"biw\" type=\"hidden\"><input name=\"bih\" type=\"hidden\"><div class=\"ds\" style=\"height:32px;margin:4px 0\"><div style=\"position:relative;zoom:1\"><input class=\"lst Ucigb\" style=\"margin:0;padding:5px 8px 0 6px;vertical-align:top;color:#000;padding-right:38px\" autocomplete=\"off\" value=\"\" title=\"Google-s\\xf8gning\" maxlength=\"2048\" name=\"q\" size=\"57\"><img src=\"/textinputassistant/tia.png\" style=\"position:absolute;cursor:pointer;right:5px;top:4px;z-index:300\" data-script-url=\"/textinputassistant/13/da_tia.js\" id=\"tsuid_1\" alt=\"\" height=\"23\" width=\"27\"><script nonce=\"4xFJCPRE8HHCSOsTHMN14Q\">(function(){var id=\\'tsuid_1\\';document.getElementById(id).onclick = function(){var s = document.createElement(\\'script\\');s.src = this.getAttribute(\\'data-script-url\\');document.body.appendChild(s);};})();</script></div></div><br style=\"line-height:0\"><span class=\"ds\"><span class=\"lsbb\"><input class=\"lsb\" value=\"Google-s\\xf8gning\" name=\"btnG\" type=\"submit\"></span></span><span class=\"ds\"><span class=\"lsbb\"><input class=\"lsb\" id=\"tsuid_2\" value=\"Jeg pr\\xf8ver lykken\" name=\"btnI\" type=\"submit\"><script nonce=\"4xFJCPRE8HHCSOsTHMN14Q\">(function(){var id=\\'tsuid_2\\';document.getElementById(id).onclick = function(){if (this.form.q.value){this.checked = 1;if (this.form.iflsig)this.form.iflsig.disabled = false;}\\nelse top.location=\\'/doodles/\\';};})();</script><input value=\"AL9hbdgAAAAAZtjIw-X54AoYiyDKTn354YKk8D5dglfQ\" name=\"iflsig\" type=\"hidden\"></span></span></td><td class=\"fl sblc\" align=\"left\" nowrap=\"\" width=\"25%\"><a href=\"/advanced_search?hl=da&amp;authuser=0\">Avanceret s\\xf8gning</a></td></tr></table><input id=\"gbv\" name=\"gbv\" type=\"hidden\" value=\"1\"><script nonce=\"4xFJCPRE8HHCSOsTHMN14Q\">(function(){var a,b=\"1\";if(document&&document.getElementById)if(typeof XMLHttpRequest!=\"undefined\")b=\"2\";else if(typeof ActiveXObject!=\"undefined\"){var c,d,e=[\"MSXML2.XMLHTTP.6.0\",\"MSXML2.XMLHTTP.3.0\",\"MSXML2.XMLHTTP\",\"Microsoft.XMLHTTP\"];for(c=0;d=e[c++];)try{new ActiveXObject(d),b=\"2\"}catch(h){}}a=b;if(a==\"2\"&&location.search.indexOf(\"&gbv=2\")==-1){var f=google.gbvu,g=document.getElementById(\"gbv\");g&&(g.value=a);f&&window.setTimeout(function(){location.href=f},0)};}).call(this);</script></form><div style=\"font-size:83%;min-height:3.5em\"><br><div id=\"gws-output-pages-elements-homepage_additional_languages__als\"><style>#gws-output-pages-elements-homepage_additional_languages__als{font-size:small;margin-bottom:24px}#SIvCob{color:#474747;display:inline-block;line-height:28px;}#SIvCob a{padding:0 3px;}.H6sW5{display:inline-block;margin:0 2px;white-space:nowrap}.z4hgWe{display:inline-block;margin:0 2px}</style><div id=\"SIvCob\">Google er tilg\\xe6ngelig p\\xe5:  <a href=\"https://www.google.com/setprefs?sig=0_E0gmsdsxPSyLnB-LWYo7KVlBsPA%3D&amp;hl=fo&amp;source=homepage&amp;sa=X&amp;ved=0ahUKEwjw2uK2iKqIAxU8gf0HHd5SCKoQ2ZgBCAY\">F\\xf8royskt</a>  </div></div></div><span id=\"footer\"><div style=\"font-size:10pt\"><div style=\"margin:19px auto;text-align:center\" id=\"WqQANb\"><a href=\"/intl/da/ads/\">Annoncering</a><a href=\"http://www.google.dk/intl/da/services/\">Virksomhedsl\\xf8sninger</a><a href=\"/intl/da/about.html\">Alt om Google</a><a href=\"https://www.google.com/setprefdomain?prefdom=DK&amp;prev=https://www.google.dk/&amp;sig=K_Rfu7tI1pvs9oVJTYLjB1H48-GLA%3D\">Google.dk</a></div></div><p style=\"font-size:8pt;color:#70757a\">&copy; 2024 - <a href=\"/intl/da/policies/privacy/\">Privatliv</a> - <a href=\"/intl/da/policies/terms/\">Vilk\\xe5r</a></p></span></center><script nonce=\"4xFJCPRE8HHCSOsTHMN14Q\">(function(){window.google.cdo={height:757,width:1440};(function(){var a=window.innerWidth,b=window.innerHeight;if(!a||!b){var c=window.document,d=c.compatMode==\"CSS1Compat\"?c.documentElement:c.body;a=d.clientWidth;b=d.clientHeight}\\nif(a&&b&&(a!=google.cdo.width||b!=google.cdo.height)){var e=google,f=e.log,g=\"/client_204?&atyp=i&biw=\"+a+\"&bih=\"+b+\"&ei=\"+google.kEI,h=\"\",k=[],l=window.google!==void 0&&window.google.kOPI!==void 0&&window.google.kOPI!==0?window.google.kOPI:null;l!=null&&k.push([\"opi\",l.toString()]);for(var m=0;m<k.length;m++){if(m===0||m>0)h+=\"&\";h+=k[m][0]+\"=\"+k[m][1]}f.call(e,\"\",\"\",g+h)};}).call(this);})();</script>  <script nonce=\"4xFJCPRE8HHCSOsTHMN14Q\">(function(){google.xjs={basecomb:\\'/xjs/_/js/k\\\\x3dxjs.hp.en.2RRmhRyqEcM.O/ck\\\\x3dxjs.hp.vZsmrEGoitM.L.X.O/am\\\\x3dAQAAACAAAAAAAAAAAAAAAAAAAAAAAAAAgBAAAAAAAABAABgAwAEAACAAQEAAAAAAAB4AAAAAAAAQgBAAgAKAAAHAgfiOAEAALAIAwAs/d\\\\x3d1/ed\\\\x3d1/dg\\\\x3d0/ujg\\\\x3d1/rs\\\\x3dACT90oF1ukRlhF_vcouA6O7q8SmwqSXwWg\\',basecss:\\'/xjs/_/ss/k\\\\x3dxjs.hp.vZsmrEGoitM.L.X.O/am\\\\x3dAQAAACAAAAAAAAAAAAAAAAAAAAAAAAAAABAAAAAAAABAAAAAAAAAACAAQEAAAAAAAAAAAAAAAAAQgBAAgAKAAAE/rs\\\\x3dACT90oEh2qYx0ggVNZxUb-7AkJiU8ZF1oA\\',basejs:\\'/xjs/_/js/k\\\\x3dxjs.hp.en.2RRmhRyqEcM.O/am\\\\x3dAAAAAAAAAAAAAAAAAAAAAAAAAAAAAAAAgAAAAAAAAAAAABgAwAEAAAAAAAAAAAAAAB4AAAAAAAAAAAAAAAAAAADAgfiOAEAALAIAwAs/dg\\\\x3d0/rs\\\\x3dACT90oGYfbxDfG1QrGq9VI2mIcfaY2ImQQ\\',excm:[]};})();</script>  <link href=\"/xjs/_/ss/k=xjs.hp.vZsmrEGoitM.L.X.O/am=AQAAACAAAAAAAAAAAAAAAAAAAAAAAAAAABAAAAAAAABAAAAAAAAAACAAQEAAAAAAAAAAAAAAAAAQgBAAgAKAAAE/d=1/ed=1/rs=ACT90oEh2qYx0ggVNZxUb-7AkJiU8ZF1oA/m=sb_he,d\" rel=\"stylesheet\" nonce=\"4xFJCPRE8HHCSOsTHMN14Q\">      <script nonce=\"4xFJCPRE8HHCSOsTHMN14Q\">(function(){var u=\\'/xjs/_/js/k\\\\x3dxjs.hp.en.2RRmhRyqEcM.O/am\\\\x3dAAAAAAAAAAAAAAAAAAAAAAAAAAAAAAAAgAAAAAAAAAAAABgAwAEAAAAAAAAAAAAAAB4AAAAAAAAAAAAAAAAAAADAgfiOAEAALAIAwAs/d\\\\x3d1/ed\\\\x3d1/dg\\\\x3d3/rs\\\\x3dACT90oGYfbxDfG1QrGq9VI2mIcfaY2ImQQ/m\\\\x3dsb_he,d\\';var st=1;var amd=1000;var mmd=0;var pod=true;\\nvar f=this||self,g=function(a){return a};function h(){var a,b,c;return(a=(b=window.google)==null?void 0:(c=b.ia)==null?void 0:c.r.B2Jtyd)&&a.m===1&&a.cbfd!=null&&a.cbvi!=null?a:void 0};var k;var l={},m=function(a){this.g=a};m.prototype.toString=function(){return this.g+\"\"};var n=function(a){return a instanceof m&&a.constructor===m?a.g:\"type_error:TrustedResourceUrl\"};\\nvar p=/^\\\\s*(?!javascript:)(?:[\\\\w+.-]+:|[^:/?#]*(?:[/?#]|$))/i;var q=\"alternate author bookmark canonical cite help icon license modulepreload next prefetch dns-prefetch prerender preconnect preload prev search subresource\".split(\" \");function r(a,b){a.src=n(b);var c,d;(c=(b=(d=(c=(a.ownerDocument&&a.ownerDocument.defaultView||window).document).querySelector)==null?void 0:d.call(c,\"script[nonce]\"))?b.nonce||b.getAttribute(\"nonce\")||\"\":\"\")&&a.setAttribute(\"nonce\",c)};var t=function(a){var b=document;a=String(a);b.contentType===\"application/xhtml+xml\"&&(a=a.toLowerCase());return b.createElement(a)};function w(a){a=a===null?\"null\":a===void 0?\"undefined\":a;if(k===void 0){var b=null;var c=f.trustedTypes;if(c&&c.createPolicy){try{b=c.createPolicy(\"goog#html\",{createHTML:g,createScript:g,createScriptURL:g})}catch(d){f.console&&f.console.error(d.message)}k=b}else k=b}a=(b=k)?b.createScriptURL(a):a;return new m(a,l)};google.ps===void 0&&(google.ps=[]);function x(){var a=u,b=function(){};google.lx=google.stvsc?b:function(){y(a);google.lx=b};google.bx||google.lx()}function z(a,b){b&&r(a,w(b));var c=a.onload;a.onload=function(d){c&&c(d);google.ps=google.ps.filter(function(e){return a!==e})};google.ps.push(a);document.body.appendChild(a)}google.as=z;function y(a){google.timers&&google.timers.load&&google.tick&&google.tick(\"load\",\"xjsls\");var b=t(\"SCRIPT\");b.onerror=function(){google.ple=1};b.onload=function(){google.ple=0};google.xjsus=void 0;z(b,a);google.aple=-1;google.dp=!0}\\nfunction A(){var a=[u];if(!google.dp){for(var b=0;b<a.length;b++){var c=t(\"LINK\"),d=c,e=w(a[b]);if(e instanceof m)d.href=n(e).toString(),d.rel=\"preload\";else{if(q.indexOf(\"preload\")===-1)throw Error(\"a`preload\");e=p.test(e)?e:void 0;e!==void 0&&(d.href=e,d.rel=\"preload\")}c.setAttribute(\"as\",\"script\");document.body.appendChild(c)}google.dp=!0}};function B(a){var b=a.getAttribute(\"jscontroller\");return(b===\"UBXHI\"||b===\"R3fhkb\"||b===\"TSZEqd\")&&a.hasAttribute(\"data-src\")}function C(){for(var a=document.getElementsByTagName(\"img\"),b=0,c=a.length;b<c;b++){var d=a[b];if(d.hasAttribute(\"data-lzy_\")&&Number(d.getAttribute(\"data-atf\"))&1&&!B(d))return!0}return!1}for(var D=document.getElementsByTagName(\"img\"),E=0,F=D.length;E<F;++E){var G=D[E];Number(G.getAttribute(\"data-atf\"))&1&&B(G)&&(G.src=G.getAttribute(\"data-src\"))};var H,I,J,K,L,M;function N(){google.xjsu=u;f._F_jsUrl=u;L=function(){x()};H=!1;I=(st===1||st===3)&&!!google.caft&&!C();J=h();K=(st===2||st===3)&&(!!google.rairicb||!!J)&&!C();M=pod}function O(){H||I||K||(L(),H=!0)}\\nsetTimeout(function(){google&&google.tick&&google.timers&&google.timers.load&&google.tick(\"load\",\"xjspls\");N();if(I||K){if(I){var a=function(){I=!1;O()};google.caft(a);window.setTimeout(a,amd)}K&&(a=function(){K=!1;O()},J?J.cbvi.push(a):(0,google.rairicb)(a),window.setTimeout(a,mmd));M&&(H||A())}else L()},0);})();window._ = window._ || {};window._DumpException = _._DumpException = function(e){throw e;};window._s = window._s || {};_s._DumpException = _._DumpException;window._qs = window._qs || {};_qs._DumpException = _._DumpException;(function(){var t=[1,128,0,0,0,0,17367040,0,4526784,117702756,167772176,1052672,2363392,120,0,270340,10519168,570884100,67111151,35592,3008];window._F_toggles = window._xjs_toggles = t;})();window._F_installCss = window._F_installCss || function(css){};(function(){google.jl={bfl:0,dw:false,ine:false,ubm:false,uwp:true,vs:false};})();(function(){var pmc=\\'{\\\\x22d\\\\x22:{},\\\\x22sb_he\\\\x22:{\\\\x22agen\\\\x22:false,\\\\x22cgen\\\\x22:false,\\\\x22client\\\\x22:\\\\x22heirloom-hp\\\\x22,\\\\x22dh\\\\x22:true,\\\\x22ds\\\\x22:\\\\x22\\\\x22,\\\\x22fl\\\\x22:true,\\\\x22host\\\\x22:\\\\x22google.com\\\\x22,\\\\x22jsonp\\\\x22:true,\\\\x22msgs\\\\x22:{\\\\x22cibl\\\\x22:\\\\x22Ryd s\\\\\\\\u00f8gning\\\\x22,\\\\x22dym\\\\x22:\\\\x22Mente du:\\\\x22,\\\\x22lcky\\\\x22:\\\\x22Jeg pr\\\\\\\\u00f8ver lykken\\\\x22,\\\\x22lml\\\\x22:\\\\x22F\\\\\\\\u00e5 flere oplysninger\\\\x22,\\\\x22psrc\\\\x22:\\\\x22Denne s\\\\\\\\u00f8gning blev fjernet fra din \\\\\\\\u003Ca href\\\\x3d\\\\\\\\\\\\x22/history\\\\\\\\\\\\x22\\\\\\\\u003EWebhistorik\\\\\\\\u003C/a\\\\\\\\u003E\\\\x22,\\\\x22psrl\\\\x22:\\\\x22Fjern\\\\x22,\\\\x22sbit\\\\x22:\\\\x22S\\\\\\\\u00f8g efter billede\\\\x22,\\\\x22srch\\\\x22:\\\\x22Google-s\\\\\\\\u00f8gning\\\\x22},\\\\x22ovr\\\\x22:{},\\\\x22pq\\\\x22:\\\\x22\\\\x22,\\\\x22rfs\\\\x22:[],\\\\x22stok\\\\x22:\\\\x22Qb4_f0PqnDQirT1AxdeC0nhMiDo\\\\x22}}\\';google.pmc=JSON.parse(pmc);})();(function(){var b=function(a){var c=0;return function(){return c<a.length?{done:!1,value:a[c++]}:{done:!0}}};\\nvar e=this||self;var g,h;a:{for(var k=[\"CLOSURE_FLAGS\"],l=e,n=0;n<k.length;n++)if(l=l[k[n]],l==null){h=null;break a}h=l}var p=h&&h[610401301];g=p!=null?p:!1;var q,r=e.navigator;q=r?r.userAgentData||null:null;function t(a){return g?q?q.brands.some(function(c){return(c=c.brand)&&c.indexOf(a)!=-1}):!1:!1}function u(a){var c;a:{if(c=e.navigator)if(c=c.userAgent)break a;c=\"\"}return c.indexOf(a)!=-1};function v(){return g?!!q&&q.brands.length>0:!1}function w(){return u(\"Safari\")&&!(x()||(v()?0:u(\"Coast\"))||(v()?0:u(\"Opera\"))||(v()?0:u(\"Edge\"))||(v()?t(\"Microsoft Edge\"):u(\"Edg/\"))||(v()?t(\"Opera\"):u(\"OPR\"))||u(\"Firefox\")||u(\"FxiOS\")||u(\"Silk\")||u(\"Android\"))}function x(){return v()?t(\"Chromium\"):(u(\"Chrome\")||u(\"CriOS\"))&&!(v()?0:u(\"Edge\"))||u(\"Silk\")}function y(){return u(\"Android\")&&!(x()||u(\"Firefox\")||u(\"FxiOS\")||(v()?0:u(\"Opera\"))||u(\"Silk\"))};var z=v()?!1:u(\"Trident\")||u(\"MSIE\");y();x();w();var A=!z&&!w(),D=function(a){if(/-[a-z]/.test(\"ved\"))return null;if(A&&a.dataset){if(y()&&!(\"ved\"in a.dataset))return null;a=a.dataset.ved;return a===void 0?null:a}return a.getAttribute(\"data-\"+\"ved\".replace(/([A-Z])/g,\"-$1\").toLowerCase())};var E=[],F=null;function G(a){a=a.target;var c=performance.now(),f=[],H=f.concat,d=E;if(!(d instanceof Array)){var m=typeof Symbol!=\"undefined\"&&Symbol.iterator&&d[Symbol.iterator];if(m)d=m.call(d);else if(typeof d.length==\"number\")d={next:b(d)};else throw Error(\"b`\"+String(d));for(var B=[];!(m=d.next()).done;)B.push(m.value);d=B}E=H.call(f,d,[c]);if(a&&a instanceof HTMLElement)if(a===F){if(c=E.length>=4)c=(E[E.length-1]-E[E.length-4])/1E3<5;if(c){c=google.getEI(a);a.hasAttribute(\"data-ved\")?f=a?D(a)||\"\":\"\":f=(f=\\na.closest(\"[data-ved]\"))?D(f)||\"\":\"\";f=f||\"\";if(a.hasAttribute(\"jsname\"))a=a.getAttribute(\"jsname\");else{var C;a=(C=a.closest(\"[jsname]\"))==null?void 0:C.getAttribute(\"jsname\")}google.log(\"rcm\",\"&ei=\"+c+\"&tgtved=\"+f+\"&jsname=\"+(a||\"\"))}}else F=a,E=[c]}window.document.addEventListener(\"DOMContentLoaded\",function(){document.body.addEventListener(\"click\",G)});}).call(this);</script></body></html>'"
      ]
     },
     "execution_count": 5,
     "metadata": {},
     "output_type": "execute_result"
    }
   ],
   "source": [
    "response.content"
   ]
  },
  {
   "cell_type": "code",
   "execution_count": 6,
   "metadata": {},
   "outputs": [],
   "source": [
    "import difflib"
   ]
  },
  {
   "cell_type": "code",
   "execution_count": 8,
   "metadata": {},
   "outputs": [],
   "source": [
    "flines = 'Hello. How are you? I am fine.'\n",
    "glines = 'How are you, Lillian? I am doing well.'"
   ]
  },
  {
   "cell_type": "code",
   "execution_count": 9,
   "metadata": {},
   "outputs": [
    {
     "name": "stdout",
     "output_type": "stream",
     "text": [
      "- H\n",
      "- e\n",
      "- l\n",
      "- l\n",
      "- o\n",
      "- .\n",
      "-  \n",
      "  H\n",
      "  o\n",
      "  w\n",
      "   \n",
      "  a\n",
      "  r\n",
      "  e\n",
      "   \n",
      "  y\n",
      "  o\n",
      "  u\n",
      "+ ,\n",
      "+  \n",
      "+ L\n",
      "+ i\n",
      "+ l\n",
      "+ l\n",
      "+ i\n",
      "+ a\n",
      "+ n\n",
      "  ?\n",
      "   \n",
      "  I\n",
      "   \n",
      "  a\n",
      "  m\n",
      "   \n",
      "- f\n",
      "+ d\n",
      "+ o\n",
      "  i\n",
      "  n\n",
      "+ g\n",
      "+  \n",
      "+ w\n",
      "  e\n",
      "+ l\n",
      "+ l\n",
      "  .\n"
     ]
    }
   ],
   "source": [
    "d = difflib.Differ()\n",
    "diff = d.compare(flines, glines)\n",
    "\n",
    "for line in diff:\n",
    "    print(line)"
   ]
  },
  {
   "cell_type": "code",
   "execution_count": null,
   "metadata": {},
   "outputs": [],
   "source": []
  }
 ],
 "metadata": {
  "kernelspec": {
   "display_name": "Python 3",
   "language": "python",
   "name": "python3"
  },
  "language_info": {
   "codemirror_mode": {
    "name": "ipython",
    "version": 3
   },
   "file_extension": ".py",
   "mimetype": "text/x-python",
   "name": "python",
   "nbconvert_exporter": "python",
   "pygments_lexer": "ipython3",
   "version": "3.11.4"
  }
 },
 "nbformat": 4,
 "nbformat_minor": 2
}
