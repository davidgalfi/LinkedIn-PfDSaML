{
 "cells": [
  {
   "cell_type": "code",
   "execution_count": 3,
   "metadata": {},
   "outputs": [],
   "source": [
    "# Import BeautifulSoup from the bs4 library for parsing HTML and XML documents\n",
    "from bs4 import BeautifulSoup\n",
    "\n",
    "# Import the urllib library for fetching data across the web\n",
    "import urllib\n",
    "import urllib.request\n",
    "\n",
    "# Import the re module for regular expression operations\n",
    "import re"
   ]
  },
  {
   "cell_type": "code",
   "execution_count": 4,
   "metadata": {},
   "outputs": [],
   "source": [
    "# Open the URL using urllib's urlopen function\n",
    "# This URL points to a raw HTML file hosted on GitHub\n",
    "with urllib.request.urlopen('https://raw.githubusercontent.com/BigDataGal/Data-Mania-Demos/master/IoT-2018.html') as response:\n",
    "    # Read the content of the response, which is the HTML data from the URL\n",
    "    html = response.read()"
   ]
  },
  {
   "cell_type": "code",
   "execution_count": 20,
   "metadata": {},
   "outputs": [
    {
     "data": {
      "text/plain": [
       "bs4.BeautifulSoup"
      ]
     },
     "execution_count": 20,
     "metadata": {},
     "output_type": "execute_result"
    }
   ],
   "source": [
    "# Parse the HTML content using BeautifulSoup and specify the parser as 'html.parser'\n",
    "# This creates a BeautifulSoup object that represents the document as a nested data structure\n",
    "soup = BeautifulSoup(html, 'html.parser')\n",
    "\n",
    "# Check the type of the soup object to confirm it's a BeautifulSoup object\n",
    "type(soup)"
   ]
  },
  {
   "cell_type": "markdown",
   "metadata": {},
   "source": [
    "## Parsing Data"
   ]
  },
  {
   "cell_type": "code",
   "execution_count": 21,
   "metadata": {},
   "outputs": [
    {
     "name": "stdout",
     "output_type": "stream",
     "text": [
      "<html>\n",
      " <head>\n",
      "  <title>\n",
      "   IoT Articles\n",
      "  </title>\n",
      " </head>\n",
      " <body>\n",
      "  <p class=\"title\">\n",
      "   <b>\n",
      "    2018 Trends: Best New IoT Device Ideas for Data Scientists and Engineers\n",
      "   </b>\n",
      "  </p>\n",
      "  <p class=\"description\">\n",
      "   It’s almost 2018 and IoT is on the cusp of an explosive expansion. In this article, I offer you a listing of new IoT device ideas that you can use...\n",
      "   <br/>\n",
      "   <br/>\n",
      "   It’s almost 2018 and IoT is on the cusp of an explosive expansion. In this article, I offer you a listing of new IoT device ideas that you can use to get practice in designing your first IoT applications.\n",
      "   <h1>\n",
      "    Looking Back at My Coolest IoT Find in 2017\n",
      "   </h1>\n",
      "   Before going into detail about best new IoT device ideas, here’s the backstory.\n",
      "   <span style=\"text-decoration: underline;\">\n",
      "    <strong>\n",
      "     <a class=\"preview\" href=\"http://bit.ly/LPlNDJj\" id=\"link 1\">\n",
      "      Last month Ericsson Digital invited me\n",
      "     </a>\n",
      "    </strong>\n",
      "   </span>\n",
      "   to tour the Ericsson Studio in Kista, Sweden. Up until that visit,\n",
      "   <a class=\"preview\" href=\"http://www.data-mania.com/blog/m2m-vs-iot/\" id=\"link 2\">\n",
      "    IoT\n",
      "   </a>\n",
      "   had been largely theoretical to me. Of course, I know the usual mumbo-jumbo about wearables and IoT-connected fitness trackers. That stuff is all well and good, but it’s somewhat old hat – plus I am not sure we are really benefiting so much from those, so I’m not that impressed.\n",
      "\n",
      "It wasn’t until I got to the Ericsson Studio that I became extremely impressed by how far IoT has really come. Relying on the promise of the 5g network expansion, IoT-powered smart devices are on the cusp of an explosive growth in adoption. It was Ericsson’s Smart Car that sent me reeling:\n",
      "   <a class=\"preview\" href=\"bit.ly/LPlNDJj\" id=\"link 3\">\n",
      "    <img alt=\"Get your new iot device ideas here\" class=\"aligncenter size-full wp-image-3802\" height=\"683\" src=\"http://www.data-mania.com/blog/wp-content/uploads/2017/12/new-IoT-device-ideas.jpg\" width=\"1024\"/>\n",
      "   </a>\n",
      "   This car is connected to Ericsson’s Connected Vehicle Cloud, an IoT platform that manages services for the Smart Cars to which it’s connected. The Volvo pictured above acts as a drop-off location for groceries that have been ordered by its owner.\n",
      "\n",
      "To understand how it works, imagine you’re pulling your normal 9-to-5 and you know you need to grab some groceries on your way home. Well, since you’re smart you’ve used Ericsson IoT platform to connect your car to the local grocery delivery service (\n",
      "   <a class=\"preview\" href=\"http://mat.se/\" id=\"link 4\">\n",
      "    Mat.se\n",
      "   </a>\n",
      "   ), so all you need to do is open the Mat.se app and make your usual order. Mat.se automatically handles the payment, grocery selection, delivery, and delivery scheduling. Since your car is IoT-enabled, Mat.se issues its trusted delivery agent a 1-time token to use for opening your car in order to place your groceries in your car for you at 4:40 pm (just before you get off from work).\n",
      "\n",
      "To watch some of the amazing IoT device demos I witnessed at Ericsson Studio, make sure to go\n",
      "   <span style=\"text-decoration: underline;\">\n",
      "    <strong>\n",
      "     <a class=\"preview\" href=\"http://bit.ly/LPlNDJj\" id=\"link 5\">\n",
      "      watch the videos on this page\n",
      "     </a>\n",
      "    </strong>\n",
      "   </span>\n",
      "   .\n",
      "   <h1>\n",
      "    Future Trends for IoT in 2018\n",
      "   </h1>\n",
      "   New IoT device ideas won’t do you much good unless you at least know the basic technology trends that are set to impact IoT over the next year(s). These include:\n",
      "   <ol>\n",
      "    <li>\n",
      "     <strong>\n",
      "      Big Data\n",
      "     </strong>\n",
      "     &amp; Data Engineering: Sensors that are embedded within IoT devices spin off machine-generated data like it’s going out of style. For IoT to function, the platform must be solidly engineered to handle big data. Be assured, that requires some serious data engineering.\n",
      "    </li>\n",
      "    <li>\n",
      "     <strong>\n",
      "      Machine Learning\n",
      "     </strong>\n",
      "     Data Science: While a lot of IoT devices are still operated according to rules-based decision criteria, the age of artificial intelligence is upon us. IoT will increasingly depend on machine learning algorithms to control device operations so that devices are able to autonomously respond to a complex set of overlapping stimuli.\n",
      "    </li>\n",
      "    <li>\n",
      "     <strong>\n",
      "      Blockchain\n",
      "     </strong>\n",
      "     -Enabled Security: Above all else, IoT networks must be secure. Blockchain technology is primed to meet the security demands that come along with building and expanding the IoT.\n",
      "    </li>\n",
      "   </ol>\n",
      "   <h1>\n",
      "    Best New IoT Device Ideas\n",
      "   </h1>\n",
      "   This listing of new IoT device ideas has been sub-divided according to the main technology upon which the IoT devices are built. Below I’m providing a list of new IoT device ideas, but for detailed instructions on how to build these IoT applications, I recommend the\n",
      "   <a class=\"preview\" href=\"https://click.linksynergy.com/deeplink?id=*JDLXjeE*wk&amp;mid=39197&amp;murl=https%3A%2F%2Fwww.udemy.com%2Ftopic%2Finternet-of-things%2F%3Fsort%3Dhighest-rated\" id=\"link 6\">\n",
      "    IoT courses on Udemy\n",
      "   </a>\n",
      "   (ß Please note: if you purchase a Udemy course through this link, I may receive a small commission), or courses that are available at\n",
      "   <a class=\"preview\" href=\"http://www.skyfilabs.com/iot-online-courses\" id=\"link 7\">\n",
      "    SkyFi\n",
      "   </a>\n",
      "   and\n",
      "   <a class=\"preview\" href=\"https://www.coursera.org/specializations/iot\" id=\"link 8\">\n",
      "    Coursera\n",
      "   </a>\n",
      "   .\n",
      "   <h2>\n",
      "    Raspberry Pi IoT Ideas\n",
      "   </h2>\n",
      "   Using Raspberry Pi as open-source hardware, you can build IoT applications that offer any one of the following benefits:\n",
      "   <ol>\n",
      "    <li>\n",
      "     Enable built-in sensing to build a weather station that measures ambient temperature and humidity\n",
      "    </li>\n",
      "    <li>\n",
      "     Build a system that detects discrepancies in electrical readings to identify electricity theft\n",
      "    </li>\n",
      "    <li>\n",
      "     Use IoT to build a Servo that is controlled by motion detection readings\n",
      "    </li>\n",
      "    <li>\n",
      "     Build a smart control switch that operates devices based on external stimuli. Use this for home automation.\n",
      "    </li>\n",
      "    <li>\n",
      "     Build a music playing application that enables music for each room in your house\n",
      "    </li>\n",
      "    <li>\n",
      "     Implement biometrics on IoT-connected devices\n",
      "    </li>\n",
      "   </ol>\n",
      "   <h2>\n",
      "    Arduino IoT Ideas\n",
      "   </h2>\n",
      "   There are a number of new IoT device ideas that deploy Arduino as a microcontroller. These include:\n",
      "   <ol>\n",
      "    <li>\n",
      "     Integrate Arduino with Android to build a remote-control RGB LED device.\n",
      "    </li>\n",
      "    <li>\n",
      "     Connect PIR sensors across the IoT to implement a smart building.\n",
      "    </li>\n",
      "    <li>\n",
      "     Build a temperature and sunlight sensor system to remotely monitor and control the conditions of your garden.\n",
      "    </li>\n",
      "    <li>\n",
      "     Deploy Arduino and IoT to automate your neighborhood streetlights.\n",
      "    </li>\n",
      "    <li>\n",
      "     Build a smart irrigation system based on IoT-connected temperature and moisture sensors built-in to your agricultural plants.\n",
      "    </li>\n",
      "   </ol>\n",
      "   [caption id=\"attachment_3807\" align=\"aligncenter\" width=\"300\"]\n",
      "   <a class=\"preview\" href=\"bit.ly/LPlNDJj\" id=\"link 9\">\n",
      "    <img alt=\"\" class=\"wp-image-3807 size-medium\" height=\"295\" src=\"http://www.data-mania.com/blog/wp-content/uploads/2017/12/IMG_3058-300x295.jpg\" width=\"300\"/>\n",
      "   </a>\n",
      "   An IoT Chatbot Tree at the Ericsson Studio[/caption]\n",
      "   <h2>\n",
      "    Wireless (GSM) IoT Ideas\n",
      "   </h2>\n",
      "   Several new IoT device ideas are developed around the GSM wireless network. Those are:\n",
      "   <ol>\n",
      "    <li>\n",
      "     Monitor soil moisture to automate agricultural irrigation cycles.\n",
      "    </li>\n",
      "    <li>\n",
      "     Automate and control the conditions of a greenhouse.\n",
      "    </li>\n",
      "    <li>\n",
      "     Enable bio-metrics to build a smart security system for your home or office building\n",
      "    </li>\n",
      "    <li>\n",
      "     Build an autonomously operating fitness application that automatically makes recommendations based on motion detection and heart rate sensors that are embedded on wearable fitness trackers.\n",
      "    </li>\n",
      "    <li>\n",
      "     Build a healthcare monitoring system that tracks, informs, and automatically alerts healthcare providers based on sensor readings that describe a patients vital statistics (like temperature, pulse, blood pressure, etc).\n",
      "    </li>\n",
      "   </ol>\n",
      "   <h2>\n",
      "    IoT Automation Ideas\n",
      "   </h2>\n",
      "   Almost all new IoT device ideas offer automation benefits, but to outline a few more ideas:\n",
      "   <ol>\n",
      "    <li>\n",
      "     Build an IoT device that automatically locates and reports the closest nearby parking spot.\n",
      "    </li>\n",
      "    <li>\n",
      "     Build a motion detection system that automatically issues emails or sms messages to alert home owners of a likely home invasion.\n",
      "    </li>\n",
      "    <li>\n",
      "     Use temperature sensors connected across the IoT to automatically alert you if your home windows or doors have been left open.\n",
      "    </li>\n",
      "    <li>\n",
      "     Use bio-metric sensors to build a smart system that automate security for your home or office building\n",
      "    </li>\n",
      "   </ol>\n",
      "   To learn more about IoT and what’s happening on the leading edge, be sure to pop over to Ericsson’s Studio Tour recap and\n",
      "   <span style=\"text-decoration: underline;\">\n",
      "    <strong>\n",
      "     <a class=\"preview\" href=\"http://bit.ly/LPlNDJj\" id=\"link 10\">\n",
      "      watch these videos\n",
      "     </a>\n",
      "    </strong>\n",
      "   </span>\n",
      "   .\n",
      "   <em>\n",
      "    (I captured some of this content on behalf of DevMode Strategies during an invite-only tour of the Ericsson Studio in Kista. Rest assure, the text and opinions are my own\n",
      "   </em>\n",
      "   )\n",
      "   <p class=\"description\">\n",
      "    ...\n",
      "   </p>\n",
      "  </p>\n",
      " </body>\n",
      "</html>\n",
      "\n"
     ]
    }
   ],
   "source": [
    "# Use the prettify method to format the BeautifulSoup object into a nicely indented string\n",
    "# Print the formatted HTML to make it more readable\n",
    "print(soup.prettify())"
   ]
  },
  {
   "cell_type": "markdown",
   "metadata": {},
   "source": [
    "## Getting data from a parse tree"
   ]
  },
  {
   "cell_type": "code",
   "execution_count": 22,
   "metadata": {},
   "outputs": [
    {
     "name": "stdout",
     "output_type": "stream",
     "text": [
      "IoT Articles\n",
      "\n",
      "2018 Trends: Best New IoT Device Ideas for Data Scientists and Engineers\n",
      "It’s almost 2018 and IoT is on the cusp of an explosive expansion. In this article, I offer you a listing of new IoT device ideas that you can use...\n",
      "\n",
      "\n",
      "It’s almost 2018 and IoT is on the cusp of an explosive expansion. In this article, I offer you a listing of new IoT device ideas that you can use to get practice in designing your first IoT applications.\n",
      "Looking Back at My Coolest IoT Find in 2017\n",
      "Before going into detail about best new IoT device ideas, here’s the backstory. Last month Ericsson Digital invited me to tour the Ericsson Studio in Kista, Sweden. Up until that visit, IoT had been largely theoretical to me. Of course, I know the usual mumbo-jumbo about wearables and IoT-connected fitness trackers. That stuff is all well and good, but it’s somewhat old hat – plus I am not sure we are really benefiting so much from those, so I’m not that impressed.\n",
      "\n",
      "It wasn’t until I got to the Ericsson Studio that I became extremely impressed by how far IoT has really come. Relying on the promise of the 5g network expansion, IoT-powered smart devices are on the cusp of an explosive growth in adoption. It was Ericsson’s Smart Car that sent me reeling:\n",
      "\n",
      "This car is connected to Ericsson’s Connected Vehicle Cloud, an IoT platform that manages services for the Smart Cars to which it’s connected. The Volvo pictured above acts as a drop-off location for groceries that have been ordered by its owner.\n",
      "\n",
      "To understand how it works, imagine you’re pulling your normal 9-to-5 and you know you need to grab some groceries on your way home. Well, since you’re smart you’ve used Ericsson IoT platform to connect your car to the local grocery delivery service (Mat.se), so all you need to do is open the Mat.se app and make your usual order. Mat.se automatically handles the payment, grocery selection, delivery, and delivery scheduling. Since your car is IoT-enabled, Mat.se issues its trusted delivery agent a 1-time token to use for opening your car in order to place your groceries in your car for you at 4:40 pm (just before you get off from work).\n",
      "\n",
      "To watch some of the amazing IoT device demos I witnessed at Ericsson Studio, make sure to go watch the videos on this page.\n",
      "Future Trends for IoT in 2018\n",
      "New IoT device ideas won’t do you much good unless you at least know the basic technology trends that are set to impact IoT over the next year(s). These include:\n",
      "\n",
      "Big Data & Data Engineering: Sensors that are embedded within IoT devices spin off machine-generated data like it’s going out of style. For IoT to function, the platform must be solidly engineered to handle big data. Be assured, that requires some serious data engineering.\n",
      "Machine Learning Data Science: While a lot of IoT devices are still operated according to rules-based decision criteria, the age of artificial intelligence is upon us. IoT will increasingly depend on machine learning algorithms to control device operations so that devices are able to autonomously respond to a complex set of overlapping stimuli.\n",
      "Blockchain-Enabled Security: Above all else, IoT networks must be secure. Blockchain technology is primed to meet the security demands that come along with building and expanding the IoT.\n",
      "\n",
      "Best New IoT Device Ideas\n",
      "This listing of new IoT device ideas has been sub-divided according to the main technology upon which the IoT devices are built. Below I’m providing a list of new IoT device ideas, but for detailed instructions on how to build these IoT applications, I recommend the IoT courses on Udemy (ß Please note: if you purchase a Udemy course through this link, I may receive a small commission), or courses that are available at SkyFi and Coursera.\n",
      "Raspberry Pi IoT Ideas\n",
      "Using Raspberry Pi as open-source hardware, you can build IoT applications that offer any one of the following benefits:\n",
      "\n",
      "Enable built-in sensing to build a weather station that measures ambient temperature and humidity\n",
      "Build a system that detects discrepancies in electrical readings to identify electricity theft\n",
      "Use IoT to build a Servo that is controlled by motion detection readings\n",
      "Build a smart control switch that operates devices based on external stimuli. Use this for home automation.\n",
      "Build a music playing application that enables music for each room in your house\n",
      "Implement biometrics on IoT-connected devices\n",
      "\n",
      "Arduino IoT Ideas\n",
      "There are a number of new IoT device ideas that deploy Arduino as a microcontroller. These include:\n",
      "\n",
      "Integrate Arduino with Android to build a remote-control RGB LED device.\n",
      "Connect PIR sensors across the IoT to implement a smart building.\n",
      "Build a temperature and sunlight sensor system to remotely monitor and control the conditions of your garden.\n",
      "Deploy Arduino and IoT to automate your neighborhood streetlights.\n",
      "Build a smart irrigation system based on IoT-connected temperature and moisture sensors built-in to your agricultural plants.\n",
      "\n",
      "[caption id=\"attachment_3807\" align=\"aligncenter\" width=\"300\"] An IoT Chatbot Tree at the Ericsson Studio[/caption]\n",
      "Wireless (GSM) IoT Ideas\n",
      "Several new IoT device ideas are developed around the GSM wireless network. Those are:\n",
      "\n",
      "Monitor soil moisture to automate agricultural irrigation cycles.\n",
      "Automate and control the conditions of a greenhouse.\n",
      "Enable bio-metrics to build a smart security system for your home or office building\n",
      "Build an autonomously operating fitness application that automatically makes recommendations based on motion detection and heart rate sensors that are embedded on wearable fitness trackers.\n",
      "Build a healthcare monitoring system that tracks, informs, and automatically alerts healthcare providers based on sensor readings that describe a patients vital statistics (like temperature, pulse, blood pressure, etc).\n",
      "\n",
      "IoT Automation Ideas\n",
      "Almost all new IoT device ideas offer automation benefits, but to outline a few more ideas:\n",
      "\n",
      "Build an IoT device that automatically locates and reports the closest nearby parking spot.\n",
      "Build a motion detection system that automatically issues emails or sms messages to alert home owners of a likely home invasion.\n",
      "Use temperature sensors connected across the IoT to automatically alert you if your home windows or doors have been left open.\n",
      "Use bio-metric sensors to build a smart system that automate security for your home or office building\n",
      "\n",
      "To learn more about IoT and what’s happening on the leading edge, be sure to pop over to Ericsson’s Studio Tour recap and watch these videos.\n",
      "\n",
      "(I captured some of this content on behalf of DevMode Strategies during an invite-only tour of the Ericsson Studio in Kista. Rest assure, the text and opinions are my own)\n",
      "...\n"
     ]
    }
   ],
   "source": [
    "# Extract all the text from the HTML document using the get_text method\n",
    "# This removes all the HTML tags and returns only the text content\n",
    "text_only = soup.get_text()\n",
    "\n",
    "# Print the extracted text to display the content of the HTML document without any tags\n",
    "print(text_only)"
   ]
  },
  {
   "cell_type": "code",
   "execution_count": 23,
   "metadata": {},
   "outputs": [
    {
     "data": {
      "text/plain": [
       "[<li><strong>Big Data</strong> &amp; Data Engineering: Sensors that are embedded within IoT devices spin off machine-generated data like it’s going out of style. For IoT to function, the platform must be solidly engineered to handle big data. Be assured, that requires some serious data engineering.</li>,\n",
       " <li><strong>Machine Learning</strong> Data Science: While a lot of IoT devices are still operated according to rules-based decision criteria, the age of artificial intelligence is upon us. IoT will increasingly depend on machine learning algorithms to control device operations so that devices are able to autonomously respond to a complex set of overlapping stimuli.</li>,\n",
       " <li><strong>Blockchain</strong>-Enabled Security: Above all else, IoT networks must be secure. Blockchain technology is primed to meet the security demands that come along with building and expanding the IoT.</li>,\n",
       " <li>Enable built-in sensing to build a weather station that measures ambient temperature and humidity</li>,\n",
       " <li>Build a system that detects discrepancies in electrical readings to identify electricity theft</li>,\n",
       " <li>Use IoT to build a Servo that is controlled by motion detection readings</li>,\n",
       " <li>Build a smart control switch that operates devices based on external stimuli. Use this for home automation.</li>,\n",
       " <li>Build a music playing application that enables music for each room in your house</li>,\n",
       " <li>Implement biometrics on IoT-connected devices</li>,\n",
       " <li>Integrate Arduino with Android to build a remote-control RGB LED device.</li>,\n",
       " <li>Connect PIR sensors across the IoT to implement a smart building.</li>,\n",
       " <li>Build a temperature and sunlight sensor system to remotely monitor and control the conditions of your garden.</li>,\n",
       " <li>Deploy Arduino and IoT to automate your neighborhood streetlights.</li>,\n",
       " <li>Build a smart irrigation system based on IoT-connected temperature and moisture sensors built-in to your agricultural plants.</li>,\n",
       " <li>Monitor soil moisture to automate agricultural irrigation cycles.</li>,\n",
       " <li>Automate and control the conditions of a greenhouse.</li>,\n",
       " <li>Enable bio-metrics to build a smart security system for your home or office building</li>,\n",
       " <li>Build an autonomously operating fitness application that automatically makes recommendations based on motion detection and heart rate sensors that are embedded on wearable fitness trackers.</li>,\n",
       " <li>Build a healthcare monitoring system that tracks, informs, and automatically alerts healthcare providers based on sensor readings that describe a patients vital statistics (like temperature, pulse, blood pressure, etc).</li>,\n",
       " <li>Build an IoT device that automatically locates and reports the closest nearby parking spot.</li>,\n",
       " <li>Build a motion detection system that automatically issues emails or sms messages to alert home owners of a likely home invasion.</li>,\n",
       " <li>Use temperature sensors connected across the IoT to automatically alert you if your home windows or doors have been left open.</li>,\n",
       " <li>Use bio-metric sensors to build a smart system that automate security for your home or office building</li>]"
      ]
     },
     "execution_count": 23,
     "metadata": {},
     "output_type": "execute_result"
    }
   ],
   "source": [
    "# Find all occurrences of the <li> tag in the HTML document\n",
    "# This returns a list of all <li> elements, which are typically used for list items\n",
    "soup.find_all('li')"
   ]
  },
  {
   "cell_type": "code",
   "execution_count": 24,
   "metadata": {},
   "outputs": [
    {
     "data": {
      "text/plain": [
       "[<a class=\"preview\" href=\"http://www.skyfilabs.com/iot-online-courses\" id=\"link 7\">SkyFi</a>]"
      ]
     },
     "execution_count": 24,
     "metadata": {},
     "output_type": "execute_result"
    }
   ],
   "source": [
    "# Search for all elements in the HTML document with the id attribute equal to 'link 7'\n",
    "# This method can find elements based on their id, which is a unique identifier in HTML\n",
    "soup.find_all(id='link 7')"
   ]
  },
  {
   "cell_type": "code",
   "execution_count": 25,
   "metadata": {},
   "outputs": [
    {
     "data": {
      "text/plain": [
       "[<ol>\n",
       " <li><strong>Big Data</strong> &amp; Data Engineering: Sensors that are embedded within IoT devices spin off machine-generated data like it’s going out of style. For IoT to function, the platform must be solidly engineered to handle big data. Be assured, that requires some serious data engineering.</li>\n",
       " <li><strong>Machine Learning</strong> Data Science: While a lot of IoT devices are still operated according to rules-based decision criteria, the age of artificial intelligence is upon us. IoT will increasingly depend on machine learning algorithms to control device operations so that devices are able to autonomously respond to a complex set of overlapping stimuli.</li>\n",
       " <li><strong>Blockchain</strong>-Enabled Security: Above all else, IoT networks must be secure. Blockchain technology is primed to meet the security demands that come along with building and expanding the IoT.</li>\n",
       " </ol>,\n",
       " <ol>\n",
       " <li>Enable built-in sensing to build a weather station that measures ambient temperature and humidity</li>\n",
       " <li>Build a system that detects discrepancies in electrical readings to identify electricity theft</li>\n",
       " <li>Use IoT to build a Servo that is controlled by motion detection readings</li>\n",
       " <li>Build a smart control switch that operates devices based on external stimuli. Use this for home automation.</li>\n",
       " <li>Build a music playing application that enables music for each room in your house</li>\n",
       " <li>Implement biometrics on IoT-connected devices</li>\n",
       " </ol>,\n",
       " <ol>\n",
       " <li>Integrate Arduino with Android to build a remote-control RGB LED device.</li>\n",
       " <li>Connect PIR sensors across the IoT to implement a smart building.</li>\n",
       " <li>Build a temperature and sunlight sensor system to remotely monitor and control the conditions of your garden.</li>\n",
       " <li>Deploy Arduino and IoT to automate your neighborhood streetlights.</li>\n",
       " <li>Build a smart irrigation system based on IoT-connected temperature and moisture sensors built-in to your agricultural plants.</li>\n",
       " </ol>,\n",
       " <ol>\n",
       " <li>Monitor soil moisture to automate agricultural irrigation cycles.</li>\n",
       " <li>Automate and control the conditions of a greenhouse.</li>\n",
       " <li>Enable bio-metrics to build a smart security system for your home or office building</li>\n",
       " <li>Build an autonomously operating fitness application that automatically makes recommendations based on motion detection and heart rate sensors that are embedded on wearable fitness trackers.</li>\n",
       " <li>Build a healthcare monitoring system that tracks, informs, and automatically alerts healthcare providers based on sensor readings that describe a patients vital statistics (like temperature, pulse, blood pressure, etc).</li>\n",
       " </ol>,\n",
       " <ol>\n",
       " <li>Build an IoT device that automatically locates and reports the closest nearby parking spot.</li>\n",
       " <li>Build a motion detection system that automatically issues emails or sms messages to alert home owners of a likely home invasion.</li>\n",
       " <li>Use temperature sensors connected across the IoT to automatically alert you if your home windows or doors have been left open.</li>\n",
       " <li>Use bio-metric sensors to build a smart system that automate security for your home or office building</li>\n",
       " </ol>]"
      ]
     },
     "execution_count": 25,
     "metadata": {},
     "output_type": "execute_result"
    }
   ],
   "source": [
    "# Find all occurrences of the <ol> tag in the HTML document\n",
    "# The <ol> tag is used to define ordered lists in HTML\n",
    "soup.find_all('ol')"
   ]
  },
  {
   "cell_type": "code",
   "execution_count": 26,
   "metadata": {},
   "outputs": [
    {
     "data": {
      "text/plain": [
       "[<b>2018 Trends: Best New IoT Device Ideas for Data Scientists and Engineers</b>,\n",
       " <ol>\n",
       " <li><strong>Big Data</strong> &amp; Data Engineering: Sensors that are embedded within IoT devices spin off machine-generated data like it’s going out of style. For IoT to function, the platform must be solidly engineered to handle big data. Be assured, that requires some serious data engineering.</li>\n",
       " <li><strong>Machine Learning</strong> Data Science: While a lot of IoT devices are still operated according to rules-based decision criteria, the age of artificial intelligence is upon us. IoT will increasingly depend on machine learning algorithms to control device operations so that devices are able to autonomously respond to a complex set of overlapping stimuli.</li>\n",
       " <li><strong>Blockchain</strong>-Enabled Security: Above all else, IoT networks must be secure. Blockchain technology is primed to meet the security demands that come along with building and expanding the IoT.</li>\n",
       " </ol>,\n",
       " <ol>\n",
       " <li>Enable built-in sensing to build a weather station that measures ambient temperature and humidity</li>\n",
       " <li>Build a system that detects discrepancies in electrical readings to identify electricity theft</li>\n",
       " <li>Use IoT to build a Servo that is controlled by motion detection readings</li>\n",
       " <li>Build a smart control switch that operates devices based on external stimuli. Use this for home automation.</li>\n",
       " <li>Build a music playing application that enables music for each room in your house</li>\n",
       " <li>Implement biometrics on IoT-connected devices</li>\n",
       " </ol>,\n",
       " <ol>\n",
       " <li>Integrate Arduino with Android to build a remote-control RGB LED device.</li>\n",
       " <li>Connect PIR sensors across the IoT to implement a smart building.</li>\n",
       " <li>Build a temperature and sunlight sensor system to remotely monitor and control the conditions of your garden.</li>\n",
       " <li>Deploy Arduino and IoT to automate your neighborhood streetlights.</li>\n",
       " <li>Build a smart irrigation system based on IoT-connected temperature and moisture sensors built-in to your agricultural plants.</li>\n",
       " </ol>,\n",
       " <ol>\n",
       " <li>Monitor soil moisture to automate agricultural irrigation cycles.</li>\n",
       " <li>Automate and control the conditions of a greenhouse.</li>\n",
       " <li>Enable bio-metrics to build a smart security system for your home or office building</li>\n",
       " <li>Build an autonomously operating fitness application that automatically makes recommendations based on motion detection and heart rate sensors that are embedded on wearable fitness trackers.</li>\n",
       " <li>Build a healthcare monitoring system that tracks, informs, and automatically alerts healthcare providers based on sensor readings that describe a patients vital statistics (like temperature, pulse, blood pressure, etc).</li>\n",
       " </ol>,\n",
       " <ol>\n",
       " <li>Build an IoT device that automatically locates and reports the closest nearby parking spot.</li>\n",
       " <li>Build a motion detection system that automatically issues emails or sms messages to alert home owners of a likely home invasion.</li>\n",
       " <li>Use temperature sensors connected across the IoT to automatically alert you if your home windows or doors have been left open.</li>\n",
       " <li>Use bio-metric sensors to build a smart system that automate security for your home or office building</li>\n",
       " </ol>]"
      ]
     },
     "execution_count": 26,
     "metadata": {},
     "output_type": "execute_result"
    }
   ],
   "source": [
    "# Find all occurrences of both <ol> and <b> tags in the HTML document\n",
    "# This method allows searching for multiple tags at once by passing a list of tag names\n",
    "# <ol> tags define ordered lists, and <b> tags are used to bold text in HTML\n",
    "soup.find_all(['ol', 'b'])"
   ]
  },
  {
   "cell_type": "code",
   "execution_count": 27,
   "metadata": {},
   "outputs": [
    {
     "name": "stdout",
     "output_type": "stream",
     "text": [
      "html\n",
      "title\n",
      "strong\n",
      "strong\n",
      "strong\n",
      "strong\n",
      "strong\n",
      "strong\n"
     ]
    }
   ],
   "source": [
    "# Compile a regular expression pattern to match the letter 't'\n",
    "# This pattern will be used to find tags with names containing 't'\n",
    "t = re.compile('t')\n",
    "\n",
    "# Iterate over all tags in the HTML document whose names match the regular expression pattern\n",
    "for tag in soup.find_all(t):\n",
    "    # Print the name of each tag that matches the pattern\n",
    "    print(tag.name)"
   ]
  },
  {
   "cell_type": "code",
   "execution_count": 28,
   "metadata": {},
   "outputs": [
    {
     "name": "stdout",
     "output_type": "stream",
     "text": [
      "html\n",
      "head\n",
      "title\n",
      "body\n",
      "p\n",
      "b\n",
      "p\n",
      "br\n",
      "br\n",
      "h1\n",
      "span\n",
      "strong\n",
      "a\n",
      "a\n",
      "a\n",
      "img\n",
      "a\n",
      "span\n",
      "strong\n",
      "a\n",
      "h1\n",
      "ol\n",
      "li\n",
      "strong\n",
      "li\n",
      "strong\n",
      "li\n",
      "strong\n",
      "h1\n",
      "a\n",
      "a\n",
      "a\n",
      "h2\n",
      "ol\n",
      "li\n",
      "li\n",
      "li\n",
      "li\n",
      "li\n",
      "li\n",
      "h2\n",
      "ol\n",
      "li\n",
      "li\n",
      "li\n",
      "li\n",
      "li\n",
      "a\n",
      "img\n",
      "h2\n",
      "ol\n",
      "li\n",
      "li\n",
      "li\n",
      "li\n",
      "li\n",
      "h2\n",
      "ol\n",
      "li\n",
      "li\n",
      "li\n",
      "li\n",
      "span\n",
      "strong\n",
      "a\n",
      "em\n",
      "p\n"
     ]
    }
   ],
   "source": [
    "# Iterate over all tags in the HTML document\n",
    "# Passing True to find_all() retrieves all tags, regardless of their name\n",
    "for tag in soup.find_all(True):\n",
    "    # Print the name of each tag\n",
    "    print(tag.name)"
   ]
  },
  {
   "cell_type": "code",
   "execution_count": 29,
   "metadata": {},
   "outputs": [
    {
     "name": "stdout",
     "output_type": "stream",
     "text": [
      "http://bit.ly/LPlNDJj\n",
      "http://www.data-mania.com/blog/m2m-vs-iot/\n",
      "bit.ly/LPlNDJj\n",
      "http://mat.se/\n",
      "http://bit.ly/LPlNDJj\n",
      "https://click.linksynergy.com/deeplink?id=*JDLXjeE*wk&mid=39197&murl=https%3A%2F%2Fwww.udemy.com%2Ftopic%2Finternet-of-things%2F%3Fsort%3Dhighest-rated\n",
      "http://www.skyfilabs.com/iot-online-courses\n",
      "https://www.coursera.org/specializations/iot\n",
      "bit.ly/LPlNDJj\n",
      "http://bit.ly/LPlNDJj\n"
     ]
    }
   ],
   "source": [
    "# Iterate over all <a> tags in the HTML document\n",
    "# <a> tags define hyperlinks in HTML\n",
    "for link in soup.find_all('a'):\n",
    "    # Print the value of the 'href' attribute for each <a> tag\n",
    "    # The 'href' attribute contains the URL that the hyperlink points to\n",
    "    print(link.get('href'))"
   ]
  },
  {
   "cell_type": "code",
   "execution_count": 30,
   "metadata": {},
   "outputs": [
    {
     "data": {
      "text/plain": [
       "[' & Data Engineering: Sensors that are embedded within IoT devices spin off machine-generated data like it’s going out of style. For IoT to function, the platform must be solidly engineered to handle big data. Be assured, that requires some serious data engineering.']"
      ]
     },
     "execution_count": 30,
     "metadata": {},
     "output_type": "execute_result"
    }
   ],
   "source": [
    "# Find all strings in the HTML document that contain the substring 'data'\n",
    "# This uses a regular expression to search for the specified pattern within text nodes\n",
    "soup.find_all(string=re.compile('data'))"
   ]
  }
 ],
 "metadata": {
  "kernelspec": {
   "display_name": "Python 3",
   "language": "python",
   "name": "python3"
  },
  "language_info": {
   "codemirror_mode": {
    "name": "ipython",
    "version": 3
   },
   "file_extension": ".py",
   "mimetype": "text/x-python",
   "name": "python",
   "nbconvert_exporter": "python",
   "pygments_lexer": "ipython3",
   "version": "3.11.4"
  }
 },
 "nbformat": 4,
 "nbformat_minor": 2
}
